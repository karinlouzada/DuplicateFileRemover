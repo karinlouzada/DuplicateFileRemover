{
 "cells": [
  {
   "cell_type": "code",
   "execution_count": 1,
   "metadata": {},
   "outputs": [],
   "source": [
    "from datetime import datetime\n",
    "import re\n",
    "from os import scandir, remove, stat\n",
    "\n",
    "\n",
    "def convert_date(timestamp):\n",
    "    \"\"\"Converts the time stamp to a human readable format\n",
    "    \n",
    "    Args: \n",
    "        timestamp(`str`): utc time string\n",
    "    \n",
    "    Returns:\n",
    "        `str`: human readable time string -- 01 Jan 2001 12:01\"\"\"\n",
    "    d = datetime.utcfromtimestamp(timestamp)\n",
    "    formated_date = d.strftime('%d %b %Y %H:%M')\n",
    "    return formated_date\n",
    "\n",
    "\n",
    "# collect the files in a set\n",
    "def get_files(path):\n",
    "    \"\"\"Generates a two sets of strings representing the files in the folder \n",
    "        (name and date of last modification).\n",
    "        \n",
    "    Args:\n",
    "        path(`str`): path to generate sets for\n",
    "        \n",
    "    Retruns:\n",
    "        `tuple` of `set`: element 0 includes filenames, element 1 includes last modification time\"\"\"\n",
    "    set_files = set()\n",
    "    set_filenames = set()\n",
    "    dir_entries = scandir(path)\n",
    "    for entry in dir_entries:\n",
    "        if entry.is_file():\n",
    "            info = entry.stat()\n",
    "            e = f'{entry.name} {convert_date(info.st_mtime)}'\n",
    "#             print(f'{entry.name}\\t Last Modified: {convert_date(info.st_mtime)}')\n",
    "            set_files.add(e)\n",
    "            set_filenames.add(entry.name)\n",
    "    return set_files, set_filenames\n",
    "\n",
    "\n",
    "# are you sure you want to delete?\n",
    "def del_func(filepath):\n",
    "    \"\"\"Deletes a file from a folder with user confirmation\n",
    "    \n",
    "    Args:\n",
    "        filepath(`str`): path to delete\n",
    "    \n",
    "    Returns:\n",
    "        None\n",
    "    \"\"\"\n",
    "    \n",
    "    answer = input(f'Are you sure you want to delete {filepath}? (Y or N):  ')\n",
    "    if answer == 'Y':\n",
    "        os.remove(filepath)\n",
    "        print('File deleted')              "
   ]
  },
  {
   "cell_type": "code",
   "execution_count": 3,
   "metadata": {},
   "outputs": [
    {
     "name": "stdout",
     "output_type": "stream",
     "text": [
      "The folders to be compared have to be sub(sub)directories of /Users/martinesteves/Pictures/.\n",
      "Enter the full path to folder1: \n",
      "Filepath does not exist, try again\n"
     ]
    },
    {
     "ename": "KeyboardInterrupt",
     "evalue": "Interrupted by user",
     "output_type": "error",
     "traceback": [
      "\u001b[0;31m---------------------------------------------------------------------------\u001b[0m",
      "\u001b[0;31mKeyboardInterrupt\u001b[0m                         Traceback (most recent call last)",
      "\u001b[0;32m<ipython-input-3-fc3db134245c>\u001b[0m in \u001b[0;36m<module>\u001b[0;34m\u001b[0m\n\u001b[1;32m     12\u001b[0m     \u001b[0;32mwhile\u001b[0m \u001b[0;32mTrue\u001b[0m\u001b[0;34m:\u001b[0m\u001b[0;34m\u001b[0m\u001b[0;34m\u001b[0m\u001b[0m\n\u001b[1;32m     13\u001b[0m         \u001b[0;32mtry\u001b[0m\u001b[0;34m:\u001b[0m\u001b[0;34m\u001b[0m\u001b[0;34m\u001b[0m\u001b[0m\n\u001b[0;32m---> 14\u001b[0;31m             \u001b[0mpaths\u001b[0m\u001b[0;34m[\u001b[0m\u001b[0mi\u001b[0m\u001b[0;34m]\u001b[0m \u001b[0;34m=\u001b[0m \u001b[0minput\u001b[0m\u001b[0;34m(\u001b[0m\u001b[0;34mf'Enter the full path to folder{i+1}: '\u001b[0m\u001b[0;34m)\u001b[0m\u001b[0;34m\u001b[0m\u001b[0;34m\u001b[0m\u001b[0m\n\u001b[0m\u001b[1;32m     15\u001b[0m \u001b[0;31m# Check if path exists, that the folder exists in the path allowed, and that the directories are different.\u001b[0m\u001b[0;34m\u001b[0m\u001b[0;34m\u001b[0m\u001b[0;34m\u001b[0m\u001b[0m\n\u001b[1;32m     16\u001b[0m             \u001b[0;32mif\u001b[0m \u001b[0mbool\u001b[0m\u001b[0;34m(\u001b[0m\u001b[0mstat\u001b[0m\u001b[0;34m(\u001b[0m\u001b[0mpaths\u001b[0m\u001b[0;34m[\u001b[0m\u001b[0mi\u001b[0m\u001b[0;34m]\u001b[0m\u001b[0;34m)\u001b[0m\u001b[0;34m)\u001b[0m \u001b[0;34m==\u001b[0m \u001b[0;32mTrue\u001b[0m \u001b[0;32mand\u001b[0m \u001b[0mPath\u001b[0m \u001b[0;32min\u001b[0m \u001b[0mpaths\u001b[0m\u001b[0;34m[\u001b[0m\u001b[0mi\u001b[0m\u001b[0;34m]\u001b[0m \u001b[0;32mand\u001b[0m \u001b[0mpaths\u001b[0m\u001b[0;34m[\u001b[0m\u001b[0;36m1\u001b[0m\u001b[0;34m]\u001b[0m \u001b[0;34m!=\u001b[0m \u001b[0mpaths\u001b[0m\u001b[0;34m[\u001b[0m\u001b[0;36m0\u001b[0m\u001b[0;34m]\u001b[0m\u001b[0;34m:\u001b[0m\u001b[0;34m\u001b[0m\u001b[0;34m\u001b[0m\u001b[0m\n",
      "\u001b[0;32m~/.local/share/virtualenvs/DuplicateFileRemover-oGyb0sPF/lib/python3.8/site-packages/ipykernel/kernelbase.py\u001b[0m in \u001b[0;36mraw_input\u001b[0;34m(self, prompt)\u001b[0m\n\u001b[1;32m    858\u001b[0m                 \u001b[0;34m\"raw_input was called, but this frontend does not support input requests.\"\u001b[0m\u001b[0;34m\u001b[0m\u001b[0;34m\u001b[0m\u001b[0m\n\u001b[1;32m    859\u001b[0m             )\n\u001b[0;32m--> 860\u001b[0;31m         return self._input_request(str(prompt),\n\u001b[0m\u001b[1;32m    861\u001b[0m             \u001b[0mself\u001b[0m\u001b[0;34m.\u001b[0m\u001b[0m_parent_ident\u001b[0m\u001b[0;34m,\u001b[0m\u001b[0;34m\u001b[0m\u001b[0;34m\u001b[0m\u001b[0m\n\u001b[1;32m    862\u001b[0m             \u001b[0mself\u001b[0m\u001b[0;34m.\u001b[0m\u001b[0m_parent_header\u001b[0m\u001b[0;34m,\u001b[0m\u001b[0;34m\u001b[0m\u001b[0;34m\u001b[0m\u001b[0m\n",
      "\u001b[0;32m~/.local/share/virtualenvs/DuplicateFileRemover-oGyb0sPF/lib/python3.8/site-packages/ipykernel/kernelbase.py\u001b[0m in \u001b[0;36m_input_request\u001b[0;34m(self, prompt, ident, parent, password)\u001b[0m\n\u001b[1;32m    902\u001b[0m             \u001b[0;32mexcept\u001b[0m \u001b[0mKeyboardInterrupt\u001b[0m\u001b[0;34m:\u001b[0m\u001b[0;34m\u001b[0m\u001b[0;34m\u001b[0m\u001b[0m\n\u001b[1;32m    903\u001b[0m                 \u001b[0;31m# re-raise KeyboardInterrupt, to truncate traceback\u001b[0m\u001b[0;34m\u001b[0m\u001b[0;34m\u001b[0m\u001b[0;34m\u001b[0m\u001b[0m\n\u001b[0;32m--> 904\u001b[0;31m                 \u001b[0;32mraise\u001b[0m \u001b[0mKeyboardInterrupt\u001b[0m\u001b[0;34m(\u001b[0m\u001b[0;34m\"Interrupted by user\"\u001b[0m\u001b[0;34m)\u001b[0m \u001b[0;32mfrom\u001b[0m \u001b[0;32mNone\u001b[0m\u001b[0;34m\u001b[0m\u001b[0;34m\u001b[0m\u001b[0m\n\u001b[0m\u001b[1;32m    905\u001b[0m             \u001b[0;32mexcept\u001b[0m \u001b[0mException\u001b[0m \u001b[0;32mas\u001b[0m \u001b[0me\u001b[0m\u001b[0;34m:\u001b[0m\u001b[0;34m\u001b[0m\u001b[0;34m\u001b[0m\u001b[0m\n\u001b[1;32m    906\u001b[0m                 \u001b[0mself\u001b[0m\u001b[0;34m.\u001b[0m\u001b[0mlog\u001b[0m\u001b[0;34m.\u001b[0m\u001b[0mwarning\u001b[0m\u001b[0;34m(\u001b[0m\u001b[0;34m\"Invalid Message:\"\u001b[0m\u001b[0;34m,\u001b[0m \u001b[0mexc_info\u001b[0m\u001b[0;34m=\u001b[0m\u001b[0;32mTrue\u001b[0m\u001b[0;34m)\u001b[0m\u001b[0;34m\u001b[0m\u001b[0;34m\u001b[0m\u001b[0m\n",
      "\u001b[0;31mKeyboardInterrupt\u001b[0m: Interrupted by user"
     ]
    }
   ],
   "source": [
    "# This program scans two folders and compares the files in them and then asks if you want to delete the exact duplicates.\n",
    "\n",
    "# For security's sake, folders to be compared can only be allowed to be in a certain Path. Don't want you deleting OS necessary files... \n",
    "Path = '/Users/martinesteves/Pictures/'\n",
    "print(f'The folders to be compared have to be sub(sub)directories of {Path}.')\n",
    "\n",
    "# Input the folders for comparison.\n",
    "# Duplicates will eventually be removed from the first folder.\n",
    "paths = [f'{Path}',f'{Path}/MJE photos Jen G']\n",
    "paths = ['','']\n",
    "for i in [0,1]:\n",
    "    while True:\n",
    "        try:\n",
    "            paths[i] = input(f'Enter the full path to folder{i+1}: ')\n",
    "# Check if path exists, that the folder exists in the path allowed, and that the directories are different.\n",
    "            if bool(stat(paths[i])) == True and Path in paths[i] and paths[1] != paths[0]:\n",
    "                break\n",
    "            else: \n",
    "                print(f'The folder has to be {Path} or be located in this directory. You also can/t compare the same file to itself. Please enter a new path to the directory')\n",
    "# Error Handling\n",
    "        except FileNotFoundError as err:\n",
    "            print('Filepath does not exist, try again')\n",
    "        \n",
    "        \n",
    "# Call the function to retrieve the filenames and dates of modification in a set for each folder.\n",
    "set1, set_filenames1 = get_files(paths[0])\n",
    "set2, set_filenames2 = get_files(paths[1])\n",
    "\n",
    "# Extract a set of duplicates by comparing the two sets\n",
    "doubles_set = set1.intersection(set2)\n",
    "\n",
    "# Remove duplicates from the first folder\n",
    "if len(doubles_set) == 0:\n",
    "    print('There are no doubles.')\n",
    "for file in doubles_set:\n",
    "    filename = re.search('^[a-zA-Z\\d_ -.]*\\.[a-zA-Z\\d]*', file)\n",
    "    del_func(f'{path1}/{filename.group(0)}')"
   ]
  },
  {
   "cell_type": "code",
   "execution_count": 6,
   "metadata": {},
   "outputs": [
    {
     "name": "stdout",
     "output_type": "stream",
     "text": [
      "/Users/martinesteves/bin/develtools/nbconvert, DuplicateFile.Remover.ipynb,\n",
      "[NbConvertApp] WARNING | pattern 'DuplicateFile.Remover.ipynb' matched no files\n"
     ]
    }
   ],
   "source": [
    "%alias nbconvert $HOME/bin/develtools/nbconvert DuplicateFile.Remover.ipynb\n",
    "%nbconvert"
   ]
  },
  {
   "cell_type": "code",
   "execution_count": null,
   "metadata": {},
   "outputs": [],
   "source": []
  }
 ],
 "metadata": {
  "kernelspec": {
   "display_name": "Python 3",
   "language": "python",
   "name": "python3"
  },
  "language_info": {
   "codemirror_mode": {
    "name": "ipython",
    "version": 3
   },
   "file_extension": ".py",
   "mimetype": "text/x-python",
   "name": "python",
   "nbconvert_exporter": "python",
   "pygments_lexer": "ipython3",
   "version": "3.7.7"
  }
 },
 "nbformat": 4,
 "nbformat_minor": 4
}
